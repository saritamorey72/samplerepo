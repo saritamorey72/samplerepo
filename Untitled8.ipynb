{
 "cells": [
  {
   "cell_type": "code",
   "execution_count": null,
   "id": "32d8869e",
   "metadata": {},
   "outputs": [],
   "source": [
    "with open(\"/test_mosaic/G1/user2.txt\", \"w\") as file:\n",
    "    file.write(\"This is written from notebook with user impersonation on\")"
   ]
  }
 ],
 "metadata": {
  "kernelspec": {
   "display_name": "R",
   "language": "R",
   "name": "ir"
  },
  "language_info": {
   "codemirror_mode": "r",
   "file_extension": ".r",
   "mimetype": "text/x-r-source",
   "name": "R",
   "pygments_lexer": "r",
   "version": "4.0.3"
  }
 },
 "nbformat": 4,
 "nbformat_minor": 5
}
