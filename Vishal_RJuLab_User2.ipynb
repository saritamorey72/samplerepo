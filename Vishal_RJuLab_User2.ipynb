{
 "cells": [
  {
   "cell_type": "code",
   "execution_count": 1,
   "id": "aeeef288-eae3-409d-adb9-cb1231ca44ca",
   "metadata": {},
   "outputs": [
    {
     "name": "stdout",
     "output_type": "stream",
     "text": [
      "[1] \"textfileU2XKMLW7252F.txt\"\n"
     ]
    }
   ],
   "source": [
    "myFun <- function(n = 5000) {\n",
    "  a <- do.call(paste0, replicate(5, sample(LETTERS, n, TRUE), FALSE))\n",
    "  paste0(a, sprintf(\"%04d\", sample(9999, n, TRUE)), sample(LETTERS, n, TRUE))\n",
    "}\n",
    "filename = paste(\"textfileU2\",myFun(1),\".txt\", sep =\"\")\n",
    "print(filename)"
   ]
  },
  {
   "cell_type": "code",
   "execution_count": 2,
   "id": "a4bb611e-07d1-4f5c-9de1-98c9d12cb0b4",
   "metadata": {},
   "outputs": [
    {
     "name": "stderr",
     "output_type": "stream",
     "text": [
      "Warning message in writeLines(c(\"Hello\", \"World\"), fileConn):\n",
      "“cannot open file '/test_mosaic/G1/textfileU2XKMLW7252F.txt': Permission denied”\n"
     ]
    },
    {
     "ename": "ERROR",
     "evalue": "Error in writeLines(c(\"Hello\", \"World\"), fileConn): cannot open the connection\n",
     "output_type": "error",
     "traceback": [
      "Error in writeLines(c(\"Hello\", \"World\"), fileConn): cannot open the connection\nTraceback:\n",
      "1. writeLines(c(\"Hello\", \"World\"), fileConn)"
     ]
    }
   ],
   "source": [
    "#User 2 Success\n",
    "\n",
    "fileConn<-file(paste(\"/test_mosaic/G1/\",filename,sep =\"\"))\n",
    "writeLines(c(\"Hello\",\"World\"), fileConn)\n",
    "close(fileConn)\n",
    "\n",
    "fileConn<-file(paste(\"/test_mosaic/G1/\",filename,sep =\"\"))\n",
    "readLines((paste(\"/test_mosaic/G1/\",filename,sep =\"\")), fileConn)\n",
    "close(fileConn)"
   ]
  },
  {
   "cell_type": "code",
   "execution_count": 4,
   "id": "a365642d-d606-428b-b5ae-e940d58202b3",
   "metadata": {},
   "outputs": [
    {
     "data": {
      "text/html": [
       "<style>\n",
       ".list-inline {list-style: none; margin:0; padding: 0}\n",
       ".list-inline>li {display: inline-block}\n",
       ".list-inline>li:not(:last-child)::after {content: \"\\00b7\"; padding: 0 .5ex}\n",
       "</style>\n",
       "<ol class=list-inline><li>'Hello'</li><li>'World'</li></ol>\n"
      ],
      "text/latex": [
       "\\begin{enumerate*}\n",
       "\\item 'Hello'\n",
       "\\item 'World'\n",
       "\\end{enumerate*}\n"
      ],
      "text/markdown": [
       "1. 'Hello'\n",
       "2. 'World'\n",
       "\n",
       "\n"
      ],
      "text/plain": [
       "[1] \"Hello\" \"World\""
      ]
     },
     "metadata": {},
     "output_type": "display_data"
    }
   ],
   "source": [
    "#User 2 Failure\n",
    "\n",
    "fileConn<-file(paste(\"/test_mosaic/G3/\",filename,sep =\"\"))\n",
    "writeLines(c(\"Hello\",\"World\"), fileConn)\n",
    "close(fileConn)\n",
    "\n",
    "fileConn<-file(paste(\"/test_mosaic/G3/\",filename,sep =\"\"))\n",
    "readLines((paste(\"/test_mosaic/G3/\",filename,sep =\"\")), fileConn)\n",
    "close(fileConn)"
   ]
  },
  {
   "cell_type": "code",
   "execution_count": null,
   "id": "d7753c30-e6a9-4ccc-8a77-fe8978f3fbb0",
   "metadata": {},
   "outputs": [],
   "source": []
  }
 ],
 "metadata": {
  "kernelspec": {
   "display_name": "R",
   "language": "R",
   "name": "ir"
  },
  "language_info": {
   "codemirror_mode": "r",
   "file_extension": ".r",
   "mimetype": "text/x-r-source",
   "name": "R",
   "pygments_lexer": "r",
   "version": "4.0.3"
  }
 },
 "nbformat": 4,
 "nbformat_minor": 5
}
