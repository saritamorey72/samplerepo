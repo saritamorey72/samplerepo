{
 "cells": [
  {
   "cell_type": "code",
   "execution_count": 3,
   "id": "b5a3868a-49dd-4456-bc73-1fed15650e2f",
   "metadata": {},
   "outputs": [
    {
     "data": {
      "text/plain": [
       "[1] \"2021-08-09 06:50:22 UTC\""
      ]
     },
     "metadata": {},
     "output_type": "display_data"
    }
   ],
   "source": [
    "myFun <- function(n = 5000) {\n",
    "  a <- do.call(paste0, replicate(5, sample(LETTERS, n, TRUE), FALSE))\n",
    "  paste0(a, sprintf(\"%04d\", sample(9999, n, TRUE)), sample(LETTERS, n, TRUE))\n",
    "}"
   ]
  },
  {
   "cell_type": "code",
   "execution_count": 4,
   "id": "c2226a45-a162-4fd4-97cf-abfc8d189daa",
   "metadata": {},
   "outputs": [
    {
     "data": {
      "text/html": [
       "'Mon Aug 09 06:50:42 AM 2021'"
      ],
      "text/latex": [
       "'Mon Aug 09 06:50:42 AM 2021'"
      ],
      "text/markdown": [
       "'Mon Aug 09 06:50:42 AM 2021'"
      ],
      "text/plain": [
       "[1] \"Mon Aug 09 06:50:42 AM 2021\""
      ]
     },
     "metadata": {},
     "output_type": "display_data"
    },
    {
     "data": {
      "text/html": [
       "<time datetime=\"2021-08-09\">2021-08-09</time>"
      ],
      "text/latex": [
       "2021-08-09"
      ],
      "text/markdown": [
       "2021-08-09"
      ],
      "text/plain": [
       "[1] \"2021-08-09\""
      ]
     },
     "metadata": {},
     "output_type": "display_data"
    }
   ],
   "source": []
  },
  {
   "cell_type": "code",
   "execution_count": 8,
   "id": "ad844b84-e089-40d6-b49f-e4e3ff97c362",
   "metadata": {},
   "outputs": [],
   "source": []
  },
  {
   "cell_type": "code",
   "execution_count": 10,
   "id": "a0904aaa-14fe-4191-aa30-f2241ca4ea51",
   "metadata": {},
   "outputs": [
    {
     "data": {
      "text/html": [
       "'PEPAD0891F'"
      ],
      "text/latex": [
       "'PEPAD0891F'"
      ],
      "text/markdown": [
       "'PEPAD0891F'"
      ],
      "text/plain": [
       "[1] \"PEPAD0891F\""
      ]
     },
     "metadata": {},
     "output_type": "display_data"
    }
   ],
   "source": [
    "myFun(1)"
   ]
  },
  {
   "cell_type": "code",
   "execution_count": null,
   "id": "465baefe-2390-4888-b36a-94bb1c10fbd8",
   "metadata": {},
   "outputs": [],
   "source": []
  }
 ],
 "metadata": {
  "kernelspec": {
   "display_name": "R",
   "language": "R",
   "name": "ir"
  },
  "language_info": {
   "codemirror_mode": "r",
   "file_extension": ".r",
   "mimetype": "text/x-r-source",
   "name": "R",
   "pygments_lexer": "r",
   "version": "4.0.3"
  }
 },
 "nbformat": 4,
 "nbformat_minor": 5
}
