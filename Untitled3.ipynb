{
 "cells": [
  {
   "cell_type": "code",
   "execution_count": 18,
   "id": "b5a3868a-49dd-4456-bc73-1fed15650e2f",
   "metadata": {},
   "outputs": [
    {
     "name": "stdout",
     "output_type": "stream",
     "text": [
      "[1] \"textfileU1NIKNB6343S.txt\"\n"
     ]
    }
   ],
   "source": [
    "myFun <- function(n = 5000) {\n",
    "  a <- do.call(paste0, replicate(5, sample(LETTERS, n, TRUE), FALSE))\n",
    "  paste0(a, sprintf(\"%04d\", sample(9999, n, TRUE)), sample(LETTERS, n, TRUE))\n",
    "}\n",
    "filename = paste(\"textfileU1\",myFun(1),\".txt\", sep =\"\")\n",
    "print(filename)"
   ]
  },
  {
   "cell_type": "code",
   "execution_count": 16,
   "id": "c2226a45-a162-4fd4-97cf-abfc8d189daa",
   "metadata": {},
   "outputs": [],
   "source": [
    "fileConn<-file(\"/test_mosaic/G2/write.txt\")\n",
    "writeLines(c(\"Hello\",\"World\"), fileConn)\n",
    "close(fileConn)"
   ]
  },
  {
   "cell_type": "code",
   "execution_count": 17,
   "id": "ad844b84-e089-40d6-b49f-e4e3ff97c362",
   "metadata": {},
   "outputs": [
    {
     "name": "stdout",
     "output_type": "stream",
     "text": [
      "[1] \"textfileU1DFJKW9327O.txt\"\n"
     ]
    }
   ],
   "source": []
  },
  {
   "cell_type": "code",
   "execution_count": 10,
   "id": "a0904aaa-14fe-4191-aa30-f2241ca4ea51",
   "metadata": {},
   "outputs": [
    {
     "data": {
      "text/html": [
       "'PEPAD0891F'"
      ],
      "text/latex": [
       "'PEPAD0891F'"
      ],
      "text/markdown": [
       "'PEPAD0891F'"
      ],
      "text/plain": [
       "[1] \"PEPAD0891F\""
      ]
     },
     "metadata": {},
     "output_type": "display_data"
    }
   ],
   "source": [
    "myFun(1)"
   ]
  },
  {
   "cell_type": "code",
   "execution_count": null,
   "id": "465baefe-2390-4888-b36a-94bb1c10fbd8",
   "metadata": {},
   "outputs": [],
   "source": []
  }
 ],
 "metadata": {
  "kernelspec": {
   "display_name": "R",
   "language": "R",
   "name": "ir"
  },
  "language_info": {
   "codemirror_mode": "r",
   "file_extension": ".r",
   "mimetype": "text/x-r-source",
   "name": "R",
   "pygments_lexer": "r",
   "version": "4.0.3"
  }
 },
 "nbformat": 4,
 "nbformat_minor": 5
}
