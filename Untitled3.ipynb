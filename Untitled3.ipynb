{
 "cells": [
  {
   "cell_type": "code",
   "execution_count": 3,
   "id": "b5a3868a-49dd-4456-bc73-1fed15650e2f",
   "metadata": {},
   "outputs": [
    {
     "data": {
      "text/plain": [
       "[1] \"2021-08-09 06:50:22 UTC\""
      ]
     },
     "metadata": {},
     "output_type": "display_data"
    }
   ],
   "source": [
    "#Sys.time()\n",
    "## print with possibly greater accuracy:\n",
    "#op <- options(digits.secs = 6)\n",
    "Sys.time()\n",
    "#options(op)"
   ]
  },
  {
   "cell_type": "code",
   "execution_count": 4,
   "id": "c2226a45-a162-4fd4-97cf-abfc8d189daa",
   "metadata": {},
   "outputs": [
    {
     "data": {
      "text/html": [
       "'Mon Aug 09 06:50:42 AM 2021'"
      ],
      "text/latex": [
       "'Mon Aug 09 06:50:42 AM 2021'"
      ],
      "text/markdown": [
       "'Mon Aug 09 06:50:42 AM 2021'"
      ],
      "text/plain": [
       "[1] \"Mon Aug 09 06:50:42 AM 2021\""
      ]
     },
     "metadata": {},
     "output_type": "display_data"
    },
    {
     "data": {
      "text/html": [
       "<time datetime=\"2021-08-09\">2021-08-09</time>"
      ],
      "text/latex": [
       "2021-08-09"
      ],
      "text/markdown": [
       "2021-08-09"
      ],
      "text/plain": [
       "[1] \"2021-08-09\""
      ]
     },
     "metadata": {},
     "output_type": "display_data"
    }
   ],
   "source": [
    "## locale-specific version of date()\n",
    "format(Sys.time(), \"%a %b %d %X %Y\")\n",
    "\n",
    "Sys.Date()"
   ]
  },
  {
   "cell_type": "code",
   "execution_count": 6,
   "id": "ad844b84-e089-40d6-b49f-e4e3ff97c362",
   "metadata": {},
   "outputs": [
    {
     "ename": "ERROR",
     "evalue": "Error in stri_rand_strings(1, 10): could not find function \"stri_rand_strings\"\n",
     "output_type": "error",
     "traceback": [
      "Error in stri_rand_strings(1, 10): could not find function \"stri_rand_strings\"\nTraceback:\n",
      "1. print(stri_rand_strings(1, 10))"
     ]
    }
   ],
   "source": [
    "print(stri_rand_strings(1, 10))"
   ]
  },
  {
   "cell_type": "code",
   "execution_count": null,
   "id": "a0904aaa-14fe-4191-aa30-f2241ca4ea51",
   "metadata": {},
   "outputs": [],
   "source": []
  }
 ],
 "metadata": {
  "kernelspec": {
   "display_name": "R",
   "language": "R",
   "name": "ir"
  },
  "language_info": {
   "codemirror_mode": "r",
   "file_extension": ".r",
   "mimetype": "text/x-r-source",
   "name": "R",
   "pygments_lexer": "r",
   "version": "4.0.3"
  }
 },
 "nbformat": 4,
 "nbformat_minor": 5
}
