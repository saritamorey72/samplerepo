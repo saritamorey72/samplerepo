{
 "cells": [
  {
   "cell_type": "code",
   "execution_count": 1,
   "id": "8ba79344-503f-42e5-b115-5d5db505ce69",
   "metadata": {},
   "outputs": [],
   "source": [
    "import random\n",
    "n = random.randint(0,1000)"
   ]
  },
  {
   "cell_type": "code",
   "execution_count": 2,
   "id": "17af4f85-ae6f-4a2a-b372-cee23cbcdfda",
   "metadata": {},
   "outputs": [
    {
     "name": "stdout",
     "output_type": "stream",
     "text": [
      "985\n"
     ]
    }
   ],
   "source": [
    "print(n)"
   ]
  },
  {
   "cell_type": "code",
   "execution_count": 3,
   "id": "4e30151b-d7d2-4525-b0be-42e202d96325",
   "metadata": {},
   "outputs": [
    {
     "name": "stdout",
     "output_type": "stream",
     "text": [
      "textfileU2985\n"
     ]
    }
   ],
   "source": [
    "filenameU2 = \"textfileU2\" + str(n)\n",
    "print(filenameU2)"
   ]
  },
  {
   "cell_type": "code",
   "execution_count": null,
   "id": "05899b3d-4725-43eb-a592-a961b249dcdd",
   "metadata": {},
   "outputs": [],
   "source": [
    "#For User 2 Success\n",
    "\n",
    "f = open(\"/test_mosaic/G1/\"+filenameU2+\".txt\", \"a\")\n",
    "f.write(\"Now the file has more content!\")\n",
    "f.close()\n",
    "\n",
    "#open and read the file after the appending:\n",
    "f = open(\"/test_mosaic/G1/\"+filenameU2+\".txt\", \"r\")\n",
    "print(f.read())"
   ]
  },
  {
   "cell_type": "code",
   "execution_count": null,
   "id": "489d2e08-50b2-4d76-a81a-9a0877192cb3",
   "metadata": {},
   "outputs": [],
   "source": [
    "#For User 2 Failure\n",
    "\n",
    "f = open(\"/test_mosaic/G3/\"+filenameU2+\".txt\", \"a\")\n",
    "f.write(\"Now the file has more content!\")\n",
    "f.close()\n",
    "\n",
    "#open and read the file after the appending:\n",
    "f = open(\"/test_mosaic/G1/\"+filenameU2+\".txt\", \"r\")\n",
    "print(f.read())"
   ]
  }
 ],
 "metadata": {
  "kernelspec": {
   "display_name": "Python 3",
   "language": "python",
   "name": "python3"
  },
  "language_info": {
   "codemirror_mode": {
    "name": "ipython",
    "version": 3
   },
   "file_extension": ".py",
   "mimetype": "text/x-python",
   "name": "python",
   "nbconvert_exporter": "python",
   "pygments_lexer": "ipython3",
   "version": "3.6.13"
  }
 },
 "nbformat": 4,
 "nbformat_minor": 5
}
