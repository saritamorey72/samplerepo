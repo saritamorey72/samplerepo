{
 "cells": [
  {
   "cell_type": "code",
   "execution_count": 5,
   "id": "052ec448-2ae9-4e92-be29-74778c144328",
   "metadata": {},
   "outputs": [],
   "source": [
    "import random\n",
    "n = random.randint(0,1000)"
   ]
  },
  {
   "cell_type": "code",
   "execution_count": 6,
   "id": "748ab1a0-1718-40e4-b884-3d29ecc734e3",
   "metadata": {},
   "outputs": [
    {
     "name": "stdout",
     "output_type": "stream",
     "text": [
      "351\n"
     ]
    }
   ],
   "source": [
    "print(n)"
   ]
  },
  {
   "cell_type": "code",
   "execution_count": 9,
   "id": "a57f5bb6-efc6-4852-a71c-26fbdcb300b5",
   "metadata": {},
   "outputs": [
    {
     "name": "stdout",
     "output_type": "stream",
     "text": [
      "textfile351\n"
     ]
    }
   ],
   "source": [
    "filenameU1 = \"textfileU1\" + str(n)\n",
    "filenameU2 = \"textfileU2\" + str(n)\n",
    "print(filenameU1)"
   ]
  },
  {
   "cell_type": "code",
   "execution_count": null,
   "id": "fe12eaac-03bd-4511-ba07-ca0da1fa7e55",
   "metadata": {},
   "outputs": [],
   "source": []
  }
 ],
 "metadata": {
  "kernelspec": {
   "display_name": "Python 3",
   "language": "python",
   "name": "python3"
  },
  "language_info": {
   "codemirror_mode": {
    "name": "ipython",
    "version": 3
   },
   "file_extension": ".py",
   "mimetype": "text/x-python",
   "name": "python",
   "nbconvert_exporter": "python",
   "pygments_lexer": "ipython3",
   "version": "3.6.13"
  }
 },
 "nbformat": 4,
 "nbformat_minor": 5
}
