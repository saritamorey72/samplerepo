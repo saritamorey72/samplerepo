{
 "cells": [
  {
   "cell_type": "code",
   "execution_count": null,
   "id": "50cce77e",
   "metadata": {},
   "outputs": [],
   "source": [
    "import random\n",
    "n = random.randint(0,1000)"
   ]
  },
  {
   "cell_type": "code",
   "execution_count": null,
   "id": "19778395",
   "metadata": {},
   "outputs": [],
   "source": [
    "print(n)"
   ]
  }
 ],
 "metadata": {
  "kernelspec": {
   "display_name": "Python 3",
   "language": "python",
   "name": "python3"
  },
  "language_info": {
   "codemirror_mode": {
    "name": "ipython",
    "version": 3
   },
   "file_extension": ".py",
   "mimetype": "text/x-python",
   "name": "python",
   "nbconvert_exporter": "python",
   "pygments_lexer": "ipython3",
   "version": "3.6.13"
  }
 },
 "nbformat": 4,
 "nbformat_minor": 5
}
