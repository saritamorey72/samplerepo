{
 "cells": [
  {
   "cell_type": "code",
   "execution_count": null,
   "id": "d07ce83f",
   "metadata": {},
   "outputs": [],
   "source": [
    "with open(\"/test_mosaic/G1/data_wrire.txt\", \"w\") as file:\n",
    "    file.write(\"This is written from notebook with user impersonation on\")"
   ]
  }
 ],
 "metadata": {
  "kernelspec": {
   "display_name": "Python 3",
   "language": "python",
   "name": "python3"
  },
  "language_info": {
   "codemirror_mode": {
    "name": "ipython",
    "version": 3
   },
   "file_extension": ".py",
   "mimetype": "text/x-python",
   "name": "python",
   "nbconvert_exporter": "python",
   "pygments_lexer": "ipython3",
   "version": "3.6.13"
  }
 },
 "nbformat": 4,
 "nbformat_minor": 5
}
