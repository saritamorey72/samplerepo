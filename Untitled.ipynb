{
 "cells": [
  {
   "cell_type": "code",
   "execution_count": null,
   "id": "e59b5ebc",
   "metadata": {},
   "outputs": [],
   "source": [
    "import time \n",
    "time.sleep(400)"
   ]
  },
  {
   "cell_type": "code",
   "execution_count": 2,
   "id": "135130e6",
   "metadata": {},
   "outputs": [],
   "source": [
    "with open(\"/test_mosaic/G1/user2.txt\", \"w\") as file:\n",
    "    file.write(\"This is written from notebook with user impersonation on\")"
   ]
  },
  {
   "cell_type": "code",
   "execution_count": null,
   "id": "2a463127",
   "metadata": {},
   "outputs": [],
   "source": []
  }
 ],
 "metadata": {
  "kernelspec": {
   "display_name": "Python 3",
   "language": "python",
   "name": "python3"
  },
  "language_info": {
   "codemirror_mode": {
    "name": "ipython",
    "version": 3
   },
   "file_extension": ".py",
   "mimetype": "text/x-python",
   "name": "python",
   "nbconvert_exporter": "python",
   "pygments_lexer": "ipython3",
   "version": "3.6.13"
  }
 },
 "nbformat": 4,
 "nbformat_minor": 5
}
