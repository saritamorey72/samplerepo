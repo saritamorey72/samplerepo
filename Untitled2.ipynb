{
 "cells": [
  {
   "cell_type": "code",
   "execution_count": 5,
   "id": "e2272f0c",
   "metadata": {},
   "outputs": [],
   "source": [
    "with open(\"/test_mosaic/G1/testfolder1/newfile.txt\", \"w\") as file:\n",
    "    file.write(\"test data\")"
   ]
  },
  {
   "cell_type": "code",
   "execution_count": 4,
   "id": "c9650089",
   "metadata": {},
   "outputs": [],
   "source": [
    "!mkdir /test_mosaic/G1/testfolder1"
   ]
  }
 ],
 "metadata": {
  "kernelspec": {
   "display_name": "Python 3",
   "language": "python",
   "name": "python3"
  },
  "language_info": {
   "codemirror_mode": {
    "name": "ipython",
    "version": 3
   },
   "file_extension": ".py",
   "mimetype": "text/x-python",
   "name": "python",
   "nbconvert_exporter": "python",
   "pygments_lexer": "ipython3",
   "version": "3.6.13"
  }
 },
 "nbformat": 4,
 "nbformat_minor": 5
}
