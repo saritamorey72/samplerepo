{
 "cells": [
  {
   "cell_type": "code",
   "execution_count": 4,
   "id": "a30d8110",
   "metadata": {},
   "outputs": [
    {
     "name": "stderr",
     "output_type": "stream",
     "text": [
      "Warning message in writeLines((\"Hello\"), fileConn):\n",
      "“cannot open file '/test_mosaic/G1/data_writee.txt': Permission denied”\n"
     ]
    },
    {
     "ename": "ERROR",
     "evalue": "Error in writeLines((\"Hello\"), fileConn): cannot open the connection\n",
     "output_type": "error",
     "traceback": [
      "Error in writeLines((\"Hello\"), fileConn): cannot open the connection\nTraceback:\n",
      "1. writeLines((\"Hello\"), fileConn)"
     ]
    }
   ],
   "source": [
    "fileConn<-file(\"/test_mosaic/G3/data_writee.txt\")\n",
    "writeLines((\"Hello\"), fileConn)\n",
    "close(fileConn)"
   ]
  },
  {
   "cell_type": "code",
   "execution_count": null,
   "id": "c636995f",
   "metadata": {},
   "outputs": [],
   "source": []
  }
 ],
 "metadata": {
  "kernelspec": {
   "display_name": "R",
   "language": "R",
   "name": "ir"
  },
  "language_info": {
   "codemirror_mode": "r",
   "file_extension": ".r",
   "mimetype": "text/x-r-source",
   "name": "R",
   "pygments_lexer": "r",
   "version": "4.0.3"
  }
 },
 "nbformat": 4,
 "nbformat_minor": 5
}
