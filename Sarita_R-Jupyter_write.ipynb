{
 "cells": [
  {
   "cell_type": "code",
   "execution_count": 8,
   "id": "fca3ecae",
   "metadata": {},
   "outputs": [
    {
     "ename": "ERROR",
     "evalue": "Error in paste(\"/test_mosaic/G2/\", filename, sep = \"\"): object 'filename' not found\n",
     "output_type": "error",
     "traceback": [
      "Error in paste(\"/test_mosaic/G2/\", filename, sep = \"\"): object 'filename' not found\nTraceback:\n",
      "1. file(paste(\"/test_mosaic/G2/\", filename, sep = \"\"))",
      "2. paste(\"/test_mosaic/G2/\", filename, sep = \"\")"
     ]
    }
   ],
   "source": [
    "fileConn<-file(\"/test_mosaic/G3/data_writee.txt\")\n",
    "writeLines((\"Hello\"), fileConn)\n",
    "close(fileConn)"
   ]
  },
  {
   "cell_type": "code",
   "execution_count": null,
   "id": "b15565f7",
   "metadata": {},
   "outputs": [],
   "source": []
  }
 ],
 "metadata": {
  "kernelspec": {
   "display_name": "R",
   "language": "R",
   "name": "ir"
  },
  "language_info": {
   "codemirror_mode": "r",
   "file_extension": ".r",
   "mimetype": "text/x-r-source",
   "name": "R",
   "pygments_lexer": "r",
   "version": "4.0.3"
  }
 },
 "nbformat": 4,
 "nbformat_minor": 5
}
