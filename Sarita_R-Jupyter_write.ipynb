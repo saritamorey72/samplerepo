{
 "cells": [
  {
   "cell_type": "code",
   "execution_count": 2,
   "id": "0325dc6b",
   "metadata": {},
   "outputs": [
    {
     "name": "stderr",
     "output_type": "stream",
     "text": [
      "Warning message in writeLines(c(\"Hello\", \"World\"), fileConn):\n",
      "“cannot open file '/test_mosaic/G1/data_writee.txt': Permission denied”\n"
     ]
    },
    {
     "ename": "ERROR",
     "evalue": "Error in writeLines(c(\"Hello\", \"World\"), fileConn): cannot open the connection\n",
     "output_type": "error",
     "traceback": [
      "Error in writeLines(c(\"Hello\", \"World\"), fileConn): cannot open the connection\nTraceback:\n",
      "1. writeLines(c(\"Hello\", \"World\"), fileConn)"
     ]
    }
   ],
   "source": [
    "fileConn<-file(\"/test_mosaic/G1/data_writee.txt\")\n",
    "writeLines((\"Hello\",\"World\"), fileConn)\n",
    "close(fileConn)"
   ]
  },
  {
   "cell_type": "code",
   "execution_count": null,
   "id": "719a35e7",
   "metadata": {},
   "outputs": [],
   "source": []
  }
 ],
 "metadata": {
  "kernelspec": {
   "display_name": "R",
   "language": "R",
   "name": "ir"
  },
  "language_info": {
   "codemirror_mode": "r",
   "file_extension": ".r",
   "mimetype": "text/x-r-source",
   "name": "R",
   "pygments_lexer": "r",
   "version": "4.0.3"
  }
 },
 "nbformat": 4,
 "nbformat_minor": 5
}
