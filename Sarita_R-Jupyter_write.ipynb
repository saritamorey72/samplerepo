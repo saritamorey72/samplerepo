{
 "cells": [
  {
   "cell_type": "code",
   "execution_count": 6,
   "id": "c0ac93a7",
   "metadata": {},
   "outputs": [],
   "source": [
    "fileConn<-file(\"/test_mosaic/G3/data_writee.txt\")\n",
    "writeLines((\"Hello\"), fileConn)\n",
    "close(fileConn)"
   ]
  }
 ],
 "metadata": {
  "kernelspec": {
   "display_name": "R",
   "language": "R",
   "name": "ir"
  },
  "language_info": {
   "codemirror_mode": "r",
   "file_extension": ".r",
   "mimetype": "text/x-r-source",
   "name": "R",
   "pygments_lexer": "r",
   "version": "4.0.3"
  }
 },
 "nbformat": 4,
 "nbformat_minor": 5
}
