{
 "cells": [
  {
   "cell_type": "code",
   "execution_count": 7,
   "id": "8393d052",
   "metadata": {},
   "outputs": [],
   "source": [
    "fileConn<-file(paste(\"/test_mosaic/G2/\",filename,sep =\"\"))\n",
    "writeLines(c(\"Hello\",\"World\"), fileConn)\n",
    "close(fileConn)\n",
    "\n",
    "fileConn<-file(paste(\"/test_mosaic/G2/\",filename,sep =\"\"))\n",
    "readLines((paste(\"/test_mosaic/G2/\",filename,sep =\"\")), fileConn)\n",
    "close(fileConn)"
   ]
  },
  {
   "cell_type": "code",
   "execution_count": null,
   "id": "7ea4ab14",
   "metadata": {},
   "outputs": [],
   "source": []
  }
 ],
 "metadata": {
  "kernelspec": {
   "display_name": "R",
   "language": "R",
   "name": "ir"
  },
  "language_info": {
   "codemirror_mode": "r",
   "file_extension": ".r",
   "mimetype": "text/x-r-source",
   "name": "R",
   "pygments_lexer": "r",
   "version": "4.0.3"
  }
 },
 "nbformat": 4,
 "nbformat_minor": 5
}
