{
 "cells": [
  {
   "cell_type": "code",
   "execution_count": 10,
   "id": "e7d55902",
   "metadata": {},
   "outputs": [],
   "source": [
    "fileConn<-file(\"/test_mosaic/G2/test.txt\")\n",
    "writeLines(c(\"Hello\",\"World\"), fileConn)\n",
    "close(fileConn)\n",
    "\n",
    "fileConn<-file(\"/test_mosaic/G2/test.txt\")\n",
    "readLines(\"/test_mosaic/G2/test.txt\", fileConn)\n",
    "close(fileConn)"
   ]
  },
  {
   "cell_type": "code",
   "execution_count": null,
   "id": "0db74325",
   "metadata": {},
   "outputs": [],
   "source": []
  }
 ],
 "metadata": {
  "kernelspec": {
   "display_name": "R",
   "language": "R",
   "name": "ir"
  },
  "language_info": {
   "codemirror_mode": "r",
   "file_extension": ".r",
   "mimetype": "text/x-r-source",
   "name": "R",
   "pygments_lexer": "r",
   "version": "4.0.3"
  }
 },
 "nbformat": 4,
 "nbformat_minor": 5
}
