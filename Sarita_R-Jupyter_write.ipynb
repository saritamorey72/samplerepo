{
 "cells": [
  {
   "cell_type": "code",
   "execution_count": 8,
   "id": "365a6219",
   "metadata": {},
   "outputs": [
    {
     "ename": "ERROR",
     "evalue": "Error in paste(\"/test_mosaic/G2/\", filename, sep = \"\"): object 'filename' not found\n",
     "output_type": "error",
     "traceback": [
      "Error in paste(\"/test_mosaic/G2/\", filename, sep = \"\"): object 'filename' not found\nTraceback:\n",
      "1. file(paste(\"/test_mosaic/G2/\", filename, sep = \"\"))",
      "2. paste(\"/test_mosaic/G2/\", filename, sep = \"\")"
     ]
    }
   ],
   "source": [
    "fileConn<-file(\"/test_mosaic/G3/data_writee.txt\")\n",
    "writeLines((\"Hello\"), fileConn)\n",
    "close(fileConn)"
   ]
  },
  {
   "cell_type": "code",
   "execution_count": null,
   "id": "024f165f",
   "metadata": {},
   "outputs": [],
   "source": []
  }
 ],
 "metadata": {
  "kernelspec": {
   "display_name": "R",
   "language": "R",
   "name": "ir"
  },
  "language_info": {
   "codemirror_mode": "r",
   "file_extension": ".r",
   "mimetype": "text/x-r-source",
   "name": "R",
   "pygments_lexer": "r",
   "version": "4.0.3"
  }
 },
 "nbformat": 4,
 "nbformat_minor": 5
}
