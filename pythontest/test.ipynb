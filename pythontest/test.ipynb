with open("/test_mosaic/G1/data_wrire.txt", "w") as file:
    file.write("This is written from notebook with user impersonation on")