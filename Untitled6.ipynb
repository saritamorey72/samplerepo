{
 "cells": [
  {
   "cell_type": "code",
   "execution_count": null,
   "id": "59c91965",
   "metadata": {},
   "outputs": [],
   "source": [
    "myFun <- function(n = 5000) {\n",
    "  a <- do.call(paste0, replicate(5, sample(LETTERS, n, TRUE), FALSE))\n",
    "  paste0(a, sprintf(\"%04d\", sample(9999, n, TRUE)), sample(LETTERS, n, TRUE))\n",
    "}\n",
    "filename = paste(\"textfileU1\",myFun(1),\".txt\", sep =\"\")\n",
    "print(filename)"
   ]
  },
  {
   "cell_type": "code",
   "execution_count": null,
   "id": "41af5b51",
   "metadata": {},
   "outputs": [],
   "source": [
    "#User 1 Success\n",
    "\n",
    "fileConn<-file(paste(\"/test_mosaic/G2/\",filename,sep =\"\"))\n",
    "writeLines(c(\"Hello\",\"World\"), fileConn)\n",
    "close(fileConn)\n",
    "\n",
    "fileConn<-file(paste(\"/test_mosaic/G2/\",filename,sep =\"\"))\n",
    "readLines((paste(\"/test_mosaic/G2/\",filename,sep =\"\")), fileConn)\n",
    "close(fileConn)"
   ]
  },
  {
   "cell_type": "code",
   "execution_count": null,
   "id": "4eef8a79",
   "metadata": {},
   "outputs": [],
   "source": [
    "#User 1 Failure\n",
    "\n",
    "fileConn<-file(paste(\"/test_mosaic/G1/\",filename,sep =\"\"))\n",
    "writeLines(c(\"Hello\",\"World\"), fileConn)\n",
    "close(fileConn)\n",
    "\n",
    "fileConn<-file(paste(\"/test_mosaic/G1/\",filename,sep =\"\"))\n",
    "readLines((paste(\"/test_mosaic/G1/\",filename,sep =\"\")), fileConn)\n",
    "close(fileConn)"
   ]
  }
 ],
 "metadata": {
  "kernelspec": {
   "display_name": "R",
   "language": "R",
   "name": "ir"
  },
  "language_info": {
   "codemirror_mode": "r",
   "file_extension": ".r",
   "mimetype": "text/x-r-source",
   "name": "R",
   "pygments_lexer": "r",
   "version": "4.0.3"
  }
 },
 "nbformat": 4,
 "nbformat_minor": 5
}
