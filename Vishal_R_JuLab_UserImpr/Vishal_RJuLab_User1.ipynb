{
 "cells": [
  {
   "cell_type": "code",
   "execution_count": 2,
   "id": "b5a3868a-49dd-4456-bc73-1fed15650e2f",
   "metadata": {},
   "outputs": [
    {
     "name": "stdout",
     "output_type": "stream",
     "text": [
      "[1] \"textfileU1USYNO4548M.txt\"\n"
     ]
    }
   ],
   "source": [
    "myFun <- function(n = 5000) {\n",
    "  a <- do.call(paste0, replicate(5, sample(LETTERS, n, TRUE), FALSE))\n",
    "  paste0(a, sprintf(\"%04d\", sample(9999, n, TRUE)), sample(LETTERS, n, TRUE))\n",
    "}\n",
    "filename = paste(\"textfileU1\",myFun(1),\".txt\", sep =\"\")\n",
    "print(filename)"
   ]
  },
  {
   "cell_type": "code",
   "execution_count": 3,
   "id": "c2226a45-a162-4fd4-97cf-abfc8d189daa",
   "metadata": {},
   "outputs": [
    {
     "data": {
      "text/html": [
       "<style>\n",
       ".list-inline {list-style: none; margin:0; padding: 0}\n",
       ".list-inline>li {display: inline-block}\n",
       ".list-inline>li:not(:last-child)::after {content: \"\\00b7\"; padding: 0 .5ex}\n",
       "</style>\n",
       "<ol class=list-inline><li>'Hello'</li><li>'World'</li></ol>\n"
      ],
      "text/latex": [
       "\\begin{enumerate*}\n",
       "\\item 'Hello'\n",
       "\\item 'World'\n",
       "\\end{enumerate*}\n"
      ],
      "text/markdown": [
       "1. 'Hello'\n",
       "2. 'World'\n",
       "\n",
       "\n"
      ],
      "text/plain": [
       "[1] \"Hello\" \"World\""
      ]
     },
     "metadata": {},
     "output_type": "display_data"
    }
   ],
   "source": [
    "#User 1 Success\n",
    "\n",
    "fileConn<-file(paste(\"/test_mosaic/G2/\",filename,sep =\"\"))\n",
    "writeLines(c(\"Hello\",\"World\"), fileConn)\n",
    "close(fileConn)\n",
    "\n",
    "fileConn<-file(paste(\"/test_mosaic/G2/\",filename,sep =\"\"))\n",
    "readLines((paste(\"/test_mosaic/G2/\",filename,sep =\"\")), fileConn)\n",
    "close(fileConn)"
   ]
  },
  {
   "cell_type": "code",
   "execution_count": 4,
   "id": "ad844b84-e089-40d6-b49f-e4e3ff97c362",
   "metadata": {},
   "outputs": [
    {
     "name": "stderr",
     "output_type": "stream",
     "text": [
      "Warning message in writeLines(c(\"Hello\", \"World\"), fileConn):\n",
      "“cannot open file '/test_mosaic/G1/textfileU1USYNO4548M.txt': Permission denied”\n"
     ]
    },
    {
     "ename": "ERROR",
     "evalue": "Error in writeLines(c(\"Hello\", \"World\"), fileConn): cannot open the connection\n",
     "output_type": "error",
     "traceback": [
      "Error in writeLines(c(\"Hello\", \"World\"), fileConn): cannot open the connection\nTraceback:\n",
      "1. writeLines(c(\"Hello\", \"World\"), fileConn)"
     ]
    }
   ],
   "source": [
    "#User 1 Failure\n",
    "\n",
    "fileConn<-file(paste(\"/test_mosaic/G1/\",filename,sep =\"\"))\n",
    "writeLines(c(\"Hello\",\"World\"), fileConn)\n",
    "close(fileConn)\n",
    "\n",
    "fileConn<-file(paste(\"/test_mosaic/G1/\",filename,sep =\"\"))\n",
    "readLines((paste(\"/test_mosaic/G1/\",filename,sep =\"\")), fileConn)\n",
    "close(fileConn)"
   ]
  },
  {
   "cell_type": "code",
   "execution_count": null,
   "id": "424c9940-5934-4faa-ba45-b799c0b10c42",
   "metadata": {},
   "outputs": [],
   "source": []
  }
 ],
 "metadata": {
  "kernelspec": {
   "display_name": "R",
   "language": "R",
   "name": "ir"
  },
  "language_info": {
   "codemirror_mode": "r",
   "file_extension": ".r",
   "mimetype": "text/x-r-source",
   "name": "R",
   "pygments_lexer": "r",
   "version": "4.0.3"
  }
 },
 "nbformat": 4,
 "nbformat_minor": 5
}
