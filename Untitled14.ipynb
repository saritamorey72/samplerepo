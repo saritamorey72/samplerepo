{
 "cells": [
  {
   "cell_type": "code",
   "execution_count": null,
   "id": "bf4a2d24",
   "metadata": {},
   "outputs": [],
   "source": [
    "myFun <- function(n = 5000) {\n",
    "  a <- do.call(paste0, replicate(5, sample(LETTERS, n, TRUE), FALSE))\n",
    "  paste0(a, sprintf(\"%04d\", sample(9999, n, TRUE)), sample(LETTERS, n, TRUE))\n",
    "}\n",
    "filename = paste(\"textfileU1\",myFun(1),\".txt\", sep =\"\")\n",
    "print(filename)"
   ]
  }
 ],
 "metadata": {
  "kernelspec": {
   "display_name": "Python 3",
   "language": "python",
   "name": "python3"
  },
  "language_info": {
   "codemirror_mode": {
    "name": "ipython",
    "version": 3
   },
   "file_extension": ".py",
   "mimetype": "text/x-python",
   "name": "python",
   "nbconvert_exporter": "python",
   "pygments_lexer": "ipython3",
   "version": "3.7.10"
  }
 },
 "nbformat": 4,
 "nbformat_minor": 5
}
